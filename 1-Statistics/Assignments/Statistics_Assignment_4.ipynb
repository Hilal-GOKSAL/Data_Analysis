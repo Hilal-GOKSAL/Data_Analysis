{
 "cells": [
  {
   "cell_type": "code",
   "execution_count": 4,
   "id": "8946dd70",
   "metadata": {},
   "outputs": [],
   "source": [
    "import numpy as np\n",
    "import pandas as pd\n",
    "from scipy import stats\n",
    "import matplotlib.pyplot as plt"
   ]
  },
  {
   "cell_type": "markdown",
   "id": "4d9ab118",
   "metadata": {},
   "source": [
    "EXERCISE 1. \n",
    "    Answer the following questions by looking at the distribution table or coding with Python.\n",
    "    1. A salesperson has found that the probability of a sale on a single contact is approximately .03. If the salesperson contacts 100 prospects, what is the approximate probability of making at least one sale? (Wackerly, Ex.3.135)"
   ]
  },
  {
   "cell_type": "code",
   "execution_count": 5,
   "id": "485794d6",
   "metadata": {
    "scrolled": false
   },
   "outputs": [],
   "source": [
    "n1 = 100\n",
    "p1 = .03\n",
    "x1 = 1"
   ]
  },
  {
   "cell_type": "code",
   "execution_count": 6,
   "id": "6fe11f02",
   "metadata": {},
   "outputs": [
    {
     "data": {
      "text/plain": [
       "0.14706961214042732"
      ]
     },
     "execution_count": 6,
     "metadata": {},
     "output_type": "execute_result"
    }
   ],
   "source": [
    "stats.binom.pmf(x1, n1, p1)"
   ]
  },
  {
   "cell_type": "markdown",
   "id": "f440c61d",
   "metadata": {},
   "source": [
    "2. Ten coins are tossed simultaneously. Find the probability of getting;"
   ]
  },
  {
   "cell_type": "code",
   "execution_count": 25,
   "id": "6f4fdf52",
   "metadata": {},
   "outputs": [],
   "source": [
    "i = 7\n",
    "p = 0.5"
   ]
  },
  {
   "cell_type": "markdown",
   "id": "0118e6bc",
   "metadata": {},
   "source": [
    "(i) at least seven heads :"
   ]
  },
  {
   "cell_type": "code",
   "execution_count": 8,
   "id": "d4beb63d",
   "metadata": {},
   "outputs": [
    {
     "data": {
      "text/plain": [
       "0.171875"
      ]
     },
     "execution_count": 8,
     "metadata": {},
     "output_type": "execute_result"
    }
   ],
   "source": [
    "n2 = 10"
   ]
  },
  {
   "cell_type": "code",
   "execution_count": 24,
   "id": "574dd270",
   "metadata": {},
   "outputs": [
    {
     "data": {
      "text/plain": [
       "0.171875"
      ]
     },
     "execution_count": 24,
     "metadata": {},
     "output_type": "execute_result"
    }
   ],
   "source": [
    "1 - stats.binom.cdf(i-1, n2, p)"
   ]
  },
  {
   "cell_type": "markdown",
   "id": "c6448913",
   "metadata": {},
   "source": [
    "(ii) exactly seven heads :"
   ]
  },
  {
   "cell_type": "code",
   "execution_count": 10,
   "id": "251f673b",
   "metadata": {},
   "outputs": [
    {
     "data": {
      "text/plain": [
       "0.11718750000000014"
      ]
     },
     "execution_count": 10,
     "metadata": {},
     "output_type": "execute_result"
    }
   ],
   "source": [
    "stats.binom.pmf(i, n2, p)"
   ]
  },
  {
   "cell_type": "markdown",
   "id": "c95deb83",
   "metadata": {},
   "source": [
    "(iii)at most seven heads :"
   ]
  },
  {
   "cell_type": "code",
   "execution_count": 11,
   "id": "c3ef7da6",
   "metadata": {},
   "outputs": [
    {
     "data": {
      "text/plain": [
       "0.9453125"
      ]
     },
     "execution_count": 11,
     "metadata": {},
     "output_type": "execute_result"
    }
   ],
   "source": [
    "stats.binom.cdf(i, n2, p)"
   ]
  },
  {
   "cell_type": "markdown",
   "id": "576016b3",
   "metadata": {},
   "source": [
    "EXERCISE 2. \n",
    "The cycle time for trucks hauling concrete to a highway construction site is uniformly distributed over the interval 50 to 70 minutes. What is the probability that the cycle time exceeds 65 minutes  if it is known that the cycle time exceeds 55 minutes? (Wackerly, Ex.4.51)"
   ]
  },
  {
   "cell_type": "code",
   "execution_count": 12,
   "id": "6ddd118d",
   "metadata": {},
   "outputs": [],
   "source": [
    "q1 = 50\n",
    "q3 = 70\n",
    "p1 = 55\n",
    "p2 = 65\n"
   ]
  },
  {
   "cell_type": "code",
   "execution_count": 13,
   "id": "4e5d5731",
   "metadata": {},
   "outputs": [
    {
     "data": {
      "text/plain": [
       "0.3333333333333333"
      ]
     },
     "execution_count": 13,
     "metadata": {},
     "output_type": "execute_result"
    }
   ],
   "source": [
    "(1-stats.uniform.cdf(p2, q1, q3-q1)) / (1-stats.uniform.cdf(p1, q1 , q3-q1))"
   ]
  },
  {
   "cell_type": "markdown",
   "id": "6e59cfa1",
   "metadata": {},
   "source": [
    "EXERCISE 3. \n",
    "The width of bolts of fabric is normally distributed with mean 950 mm (millimeters) and standard deviation 10 mm.\n",
    "What is the probability that a randomly chosen bolt has a width of between 947 and 958mm?\n",
    "What is the appropriate value for C such that a randomly chosen bolt has a width less than C with probability .8531? (Wackerly, Ex.4.73)\n"
   ]
  },
  {
   "cell_type": "code",
   "execution_count": 14,
   "id": "2e71f342",
   "metadata": {},
   "outputs": [],
   "source": [
    "m1 = 950\n",
    "std = 10\n",
    "x1 = 947\n",
    "x2 = 958"
   ]
  },
  {
   "cell_type": "code",
   "execution_count": 15,
   "id": "14c93b7f",
   "metadata": {},
   "outputs": [
    {
     "data": {
      "text/plain": [
       "0.406056023605556"
      ]
     },
     "execution_count": 15,
     "metadata": {},
     "output_type": "execute_result"
    }
   ],
   "source": [
    "stats.norm.cdf(x2, m1, std) - stats.norm.cdf(x1, m1, std)"
   ]
  },
  {
   "cell_type": "code",
   "execution_count": 16,
   "id": "00c58bbc",
   "metadata": {},
   "outputs": [],
   "source": [
    "p2 = .8531"
   ]
  },
  {
   "cell_type": "code",
   "execution_count": 17,
   "id": "bb629021",
   "metadata": {},
   "outputs": [
    {
     "data": {
      "text/plain": [
       "960.4982190962642"
      ]
     },
     "execution_count": 17,
     "metadata": {},
     "output_type": "execute_result"
    }
   ],
   "source": [
    "stats.norm.ppf(p2, m1, 10)"
   ]
  },
  {
   "cell_type": "markdown",
   "id": "f4ca6568",
   "metadata": {},
   "source": [
    "EXERCISE 4. \n",
    "Suppose scores on exams in statistics are normally distributed with an unknown population mean and a population standard deviation of 3 points. A random sample of 36 scores is taken and gives a sample mean (sample mean score) of 68. Find a confidence interval estimate for the population mean exam score (the mean score on all exams). Find a 90% confidence interval for the true (population) mean of statistics exam scores.\n"
   ]
  },
  {
   "cell_type": "code",
   "execution_count": 18,
   "id": "e9c91146",
   "metadata": {},
   "outputs": [],
   "source": [
    "n4 = 36\n",
    "mean4 = 68\n",
    "std4 = 3\n",
    "ci4 = 0.90"
   ]
  },
  {
   "cell_type": "code",
   "execution_count": 19,
   "id": "9d904d12",
   "metadata": {},
   "outputs": [
    {
     "data": {
      "text/plain": [
       "0.5"
      ]
     },
     "execution_count": 19,
     "metadata": {},
     "output_type": "execute_result"
    }
   ],
   "source": [
    "sem4 = std4 / np.sqrt(n4)\n",
    "sem4"
   ]
  },
  {
   "cell_type": "code",
   "execution_count": 20,
   "id": "1d3da0ab",
   "metadata": {},
   "outputs": [
    {
     "data": {
      "text/plain": [
       "(67.17757318652427, 68.82242681347573)"
      ]
     },
     "execution_count": 20,
     "metadata": {},
     "output_type": "execute_result"
    }
   ],
   "source": [
    "stats.norm.interval(ci4, mean4, sem4)"
   ]
  },
  {
   "cell_type": "markdown",
   "id": "0096c453",
   "metadata": {},
   "source": [
    "EXERCISE 5.  \n",
    "What is the normal body temperature for healthy humans? A random sample of 130 healthy human body temperatures provided by Allen Shoemaker yielded 98.25 degrees and standard deviation 0.73 degrees.\n",
    "Give a 99% confidence interval for the average body temperature of healthy people.\n",
    "Does the confidence interval obtained in part (a) contain the value 98.6 degrees, the accepted average temperature cited by physicians and others? What conclusions can you draw? (Wackerly, Ex.8.60)\n",
    "\n",
    "\n",
    "Source: Wackerly, D., Mendenhall, W., & Scheaffer, R. L. (2014). Mathematical statistics with applications. Cengage Learning.\n"
   ]
  },
  {
   "cell_type": "code",
   "execution_count": 21,
   "id": "bc8dd7ee",
   "metadata": {},
   "outputs": [],
   "source": [
    "n5 = 130\n",
    "mean5 = 98.25\n",
    "std5 = 0.73\n",
    "ci5 = 0.99"
   ]
  },
  {
   "cell_type": "code",
   "execution_count": 22,
   "id": "f7c8dc3c",
   "metadata": {},
   "outputs": [],
   "source": [
    "sem5 = std5 / np.sqrt(n5)"
   ]
  },
  {
   "cell_type": "code",
   "execution_count": 23,
   "id": "a5db8e8e",
   "metadata": {},
   "outputs": [
    {
     "data": {
      "text/plain": [
       "(98.08508192246582, 98.41491807753418)"
      ]
     },
     "execution_count": 23,
     "metadata": {},
     "output_type": "execute_result"
    }
   ],
   "source": [
    "stats.norm.interval(ci5, mean5, sem5 )"
   ]
  }
 ],
 "metadata": {
  "kernelspec": {
   "display_name": "Python 3",
   "language": "python",
   "name": "python3"
  },
  "language_info": {
   "codemirror_mode": {
    "name": "ipython",
    "version": 3
   },
   "file_extension": ".py",
   "mimetype": "text/x-python",
   "name": "python",
   "nbconvert_exporter": "python",
   "pygments_lexer": "ipython3",
   "version": "3.8.8"
  }
 },
 "nbformat": 4,
 "nbformat_minor": 5
}
