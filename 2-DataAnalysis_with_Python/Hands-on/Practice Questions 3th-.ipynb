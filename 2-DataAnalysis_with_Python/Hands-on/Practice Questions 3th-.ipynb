{
 "cells": [
  {
   "cell_type": "markdown",
   "metadata": {},
   "source": [
    "Write a NumPy program to count a given word in each row of a given array of string values.\n",
    "Sample output:\n",
    "Original array of string values:\n",
    "[['Python' 'NumPy' 'Exercises']\n",
    "['Python' 'Pandas' 'Exercises']\n",
    "['Python' 'Machine learning' 'Python']]\n",
    "Count 'Python' row wise in the above array of string values:\n",
    "[[1 0 0]\n",
    "[1 0 0]\n",
    "[1 0 1]]"
   ]
  },
  {
   "cell_type": "code",
   "execution_count": 2,
   "metadata": {},
   "outputs": [
    {
     "name": "stdout",
     "output_type": "stream",
     "text": [
      "[[1 0 0]\n",
      " [1 0 0]\n",
      " [1 0 1]]\n"
     ]
    }
   ],
   "source": [
    "import numpy as np\n",
    "\n",
    "string = np.array([['Python', 'NumPy', 'Exercises'],\n",
    "                    ['Python', 'Pandas', 'Exercises'],\n",
    "                    ['Python', 'Machine learning', 'Python']])\n",
    "\n",
    "print(np.char.count(string, \"Python\"))"
   ]
  },
  {
   "cell_type": "markdown",
   "metadata": {},
   "source": [
    "2nd way of solution:"
   ]
  },
  {
   "cell_type": "code",
   "execution_count": 4,
   "metadata": {},
   "outputs": [
    {
     "data": {
      "text/plain": [
       "3"
      ]
     },
     "execution_count": 4,
     "metadata": {},
     "output_type": "execute_result"
    }
   ],
   "source": [
    "import numpy as np\n",
    "a = [['Python', 'NumPy', 'Exercises'],\n",
    "    ['Python', 'Pandas', 'Exercises'],\n",
    "    ['Python', 'Machine learning', 'Python']]\n",
    "b = np.array(a)\n",
    "b.shape[0]"
   ]
  },
  {
   "cell_type": "code",
   "execution_count": 5,
   "metadata": {},
   "outputs": [
    {
     "name": "stdout",
     "output_type": "stream",
     "text": [
      "[['0' '0' '0']\n",
      " ['0' '0' '0']\n",
      " ['0' '0' '0']]\n"
     ]
    }
   ],
   "source": [
    "for i in range(b.shape[0]):\n",
    "    if i == 'Python':\n",
    "        b[i] = 1\n",
    "    else:\n",
    "        b[i] = 0\n",
    "print(b)"
   ]
  },
  {
   "cell_type": "code",
   "execution_count": 3,
   "metadata": {},
   "outputs": [
    {
     "name": "stdout",
     "output_type": "stream",
     "text": [
      "[['1' '0' '0']\n",
      " ['1' '0' '0']\n",
      " ['1' '0' '1']]\n"
     ]
    }
   ],
   "source": [
    "import numpy as np\n",
    "a = [['Python', 'NumPy', 'Exercises'],\n",
    "    ['Python', 'Pandas', 'Exercises'],\n",
    "    ['Python', 'Machine learning', 'Python']]\n",
    "b = np.array(a)\n",
    "b.shape[0]\n",
    "for i in range(b.shape[0]):\n",
    "    for j in range(b.shape[0]):\n",
    "        if b[i,j] == 'Python':\n",
    "            b[i,j] = 1\n",
    "        else:\n",
    "            b[i,j] = 0\n",
    "print(b)"
   ]
  },
  {
   "cell_type": "markdown",
   "metadata": {},
   "source": [
    "Write a NumPy program to find the set difference of two arrays. The set difference will return the sorted, unique values in array1 that are not in array2.\n",
    "Expected Output:\n",
    "Array1: [ 0 10 20 40 60 80]\n",
    "Array2: [10, 30, 40, 50, 70, 90]\n",
    "Set difference between two arrays: [ 0 20 60 80]"
   ]
  },
  {
   "cell_type": "code",
   "execution_count": 6,
   "metadata": {},
   "outputs": [
    {
     "data": {
      "text/plain": [
       "array([1, 2])"
      ]
     },
     "execution_count": 6,
     "metadata": {},
     "output_type": "execute_result"
    }
   ],
   "source": [
    "a = np.array([1, 2, 3, 2, 4, 1])\n",
    "b = np.array([3, 4, 5, 6])\n",
    "np.setdiff1d(a, b)\n"
   ]
  },
  {
   "cell_type": "code",
   "execution_count": 7,
   "metadata": {},
   "outputs": [
    {
     "data": {
      "text/plain": [
       "array([ 0, 20, 60, 80])"
      ]
     },
     "execution_count": 7,
     "metadata": {},
     "output_type": "execute_result"
    }
   ],
   "source": [
    "arr1 = np.array([ 0, 10, 20, 40, 60, 80])\n",
    "arr2 = np.array([10, 30, 40, 50, 70, 90])\n",
    "np.setdiff1d(arr1,arr2)"
   ]
  },
  {
   "cell_type": "markdown",
   "metadata": {},
   "source": [
    "Solution with list comprehension:"
   ]
  },
  {
   "cell_type": "code",
   "execution_count": 10,
   "metadata": {},
   "outputs": [
    {
     "data": {
      "text/plain": [
       "[0, 20, 60, 80]"
      ]
     },
     "execution_count": 10,
     "metadata": {},
     "output_type": "execute_result"
    }
   ],
   "source": [
    "arr3 = [i for i in arr1 if i not in arr2]\n",
    "arr3"
   ]
  },
  {
   "cell_type": "markdown",
   "metadata": {},
   "source": [
    "Solution with for loop:"
   ]
  },
  {
   "cell_type": "code",
   "execution_count": 16,
   "metadata": {},
   "outputs": [
    {
     "name": "stdout",
     "output_type": "stream",
     "text": [
      "[0, 20, 60, 80]\n"
     ]
    }
   ],
   "source": [
    "arr1 = np.array([ 0, 10, 20, 40, 60, 80])\n",
    "arr2 = np.array([10, 30, 40, 50, 70, 90])\n",
    "\n",
    "a = []\n",
    "for i in arr1:\n",
    "    if i not in arr2:\n",
    "        a.append(i)\n",
    "print(a)\n"
   ]
  }
 ],
 "metadata": {
  "kernelspec": {
   "display_name": "Python 3",
   "language": "python",
   "name": "python3"
  },
  "language_info": {
   "codemirror_mode": {
    "name": "ipython",
    "version": 3
   },
   "file_extension": ".py",
   "mimetype": "text/x-python",
   "name": "python",
   "nbconvert_exporter": "python",
   "pygments_lexer": "ipython3",
   "version": "3.8.5"
  }
 },
 "nbformat": 4,
 "nbformat_minor": 4
}
