{
 "cells": [
  {
   "cell_type": "markdown",
   "source": [
    "# Binomial Distribution"
   ],
   "metadata": {}
  },
  {
   "cell_type": "markdown",
   "source": [
    "### Exercise: Checking If a Random Variable Follows a Binomial Distribution"
   ],
   "metadata": {}
  },
  {
   "cell_type": "markdown",
   "source": [
    "In this exercise, we will practice how to verify if a random variable follows a binomial distribution. We will also create a random variable using scipy.stats and plot the distribution. This will be a mostly conceptual exercise.\n",
    "\n",
    "Here, we will check if the random variable, Z: number of defective auto parts in a 12-box pack, follows a binomial distribution (remember that we consider 4% of the auto parts are defective). Follow these steps to complete this exercise:"
   ],
   "metadata": {}
  },
  {
   "cell_type": "markdown",
   "source": [
    "1.Import NumPy, Matplotlib, and scipy.stats following the usual conventions:"
   ],
   "metadata": {}
  },
  {
   "cell_type": "code",
   "execution_count": null,
   "source": [
    "import numpy as np\r\n",
    "import scipy.stats as stats\r\n",
    "import matplotlib.pyplot as plt\r\n",
    "%matplotlib inline"
   ],
   "outputs": [],
   "metadata": {}
  },
  {
   "cell_type": "markdown",
   "source": [
    "2.Try to conceptually check if Z fulfills the properties given for a binomial random variable:"
   ],
   "metadata": {}
  },
  {
   "cell_type": "code",
   "execution_count": null,
   "source": [
    "#Just discuss, no code."
   ],
   "outputs": [],
   "metadata": {}
  },
  {
   "cell_type": "markdown",
   "source": [
    "Condition 1: For each individual auto part, there are only two possible outcomes, defective or good. Since we were interested in the defective parts, then that outcome can be considered the success, with a fixed probability of 0.04 (4%).\n",
    "\n",
    "Condition 2: The number of parts per box was fixed at 12, so the experiment was performed a fixed number of times per box.\n",
    "\n",
    "Condition 3: We assumed that the defective parts had no relationship between one another because the machine randomly produces an average of 4% defective parts."
   ],
   "metadata": {}
  },
  {
   "cell_type": "markdown",
   "source": [
    "3.Determine the p and n parameters for the distributions of this variable, that is, p = 0.04 and n = 12."
   ],
   "metadata": {}
  },
  {
   "cell_type": "code",
   "execution_count": null,
   "source": [
    "n = 12\r\n",
    "p = 0.04"
   ],
   "outputs": [],
   "metadata": {}
  },
  {
   "cell_type": "markdown",
   "source": [
    "4.Use the theoretical formula with the former parameters to get the exact theoretical probability of getting exactly one defective piece per box (using x = 1): "
   ],
   "metadata": {}
  },
  {
   "cell_type": "code",
   "execution_count": null,
   "source": [
    "#Use formula to calculate it.\n",
    "import math\n",
    "print('P(Z = 1) = ', (math.factorial(12)/(math.factorial(1)*math.factorial(12-1)))*p**1*(1-p)**(12-1))"
   ],
   "outputs": [],
   "metadata": {}
  },
  {
   "cell_type": "markdown",
   "source": [
    "5.Use the scipy.stats module to produce an instance of the Z random variable. Name it Z_rv:"
   ],
   "metadata": {}
  },
  {
   "cell_type": "code",
   "execution_count": null,
   "source": [
    "Z_rv = stats.binom(n, p)"
   ],
   "outputs": [],
   "metadata": {}
  },
  {
   "cell_type": "markdown",
   "source": [
    "6.Plot the probability mass function of Z:"
   ],
   "metadata": {}
  },
  {
   "cell_type": "code",
   "execution_count": null,
   "source": [
    "z_possible_values = np.arange(0, n + 1)\n",
    "Z_probs = Z_rv.pmf(z_possible_values)\n",
    "fig, ax = plt.subplots()\n",
    "ax.bar(z_possible_values, Z_probs)\n",
    "ax.set_xticks(z_possible_values)\n",
    "ax.grid();"
   ],
   "outputs": [],
   "metadata": {}
  },
  {
   "cell_type": "markdown",
   "source": [
    "# Normal Distribution"
   ],
   "metadata": {}
  },
  {
   "cell_type": "markdown",
   "source": [
    "### Exercise: Using the Normal Distribution in Education"
   ],
   "metadata": {}
  },
  {
   "cell_type": "markdown",
   "source": [
    "In this exercise, we'll use a normal distribution object from scipy.stats and the cdf and its inverse, ppf, to answer questions about education.\n",
    "\n",
    "In psychometrics and education, it is a well-known fact that many variables relevant to education policy are normally distributed. For instance, scores in standardized mathematics tests follow a normal distribution. In this exercise, we'll explore this phenomenon: in a certain country, high school students take a standardized mathematics test whose scores follow a normal distribution with the following parameters: mean = 100, standard deviation = 15. Follow these steps to complete this exercise:"
   ],
   "metadata": {}
  },
  {
   "cell_type": "markdown",
   "source": [
    "1.Import NumPy, Matplotlib, and scipy.stats following the usual conventions:"
   ],
   "metadata": {}
  },
  {
   "cell_type": "code",
   "execution_count": null,
   "source": [
    "import numpy as np\n",
    "import scipy.stats as stats\n",
    "import matplotlib.pyplot as plt\n",
    "\n",
    "%matplotlib inline"
   ],
   "outputs": [],
   "metadata": {}
  },
  {
   "cell_type": "markdown",
   "source": [
    "2.Use the scipy.stats module to produce an instance of a normally distributed random variable, named X_rv, with mean = 100 and standard deviation = 15:"
   ],
   "metadata": {}
  },
  {
   "cell_type": "code",
   "execution_count": null,
   "source": [
    "# producing the normal distribution\n",
    "X_mean = 100\n",
    "X_sd = 15\n",
    "\n",
    "# create the random variable\n",
    "X_rv = stats.norm(\n",
    "        loc = X_mean,\n",
    "        scale = X_sd \n",
    "    )"
   ],
   "outputs": [],
   "metadata": {}
  },
  {
   "cell_type": "markdown",
   "source": [
    "3.Plot the probability distribution of X:"
   ],
   "metadata": {}
  },
  {
   "cell_type": "code",
   "execution_count": null,
   "source": [
    "x_values = np.linspace(X_mean - 4 * X_sd, X_mean + 4 * X_sd)\n",
    "y_values = X_rv.pdf(x_values)\n",
    "\n",
    "plt.plot(x_values, y_values, lw=2)\n",
    "plt.grid();"
   ],
   "outputs": [],
   "metadata": {}
  },
  {
   "cell_type": "markdown",
   "source": [
    "4.The Ministry of Education has decided that the minimum score for someone to be considered competent in mathematics is 80. Use the cdf method to calculate the proportion of students that will get a score above that score:"
   ],
   "metadata": {}
  },
  {
   "cell_type": "code",
   "execution_count": null,
   "source": [
    "Prob_X_gt_80 = X_rv.cdf(np.Inf) - X_rv.cdf(80)\n",
    "\n",
    "print(f'Prob(X >= 80): {Prob_X_gt_80:0.5f} (or {100*Prob_X_gt_80:0.2f}%)')"
   ],
   "outputs": [],
   "metadata": {}
  },
  {
   "cell_type": "markdown",
   "source": [
    "5.A very selective university wants to set very high standards for high school students that are admitted to their programs. The policy of the university is to only admit students with mathematics scores in the top 2% of the population. Use the ppf method (which is essentially the inverse function of the cdf method) with an argument of 1 - 0.02 = 0.98 to get the cut-off score for admission:"
   ],
   "metadata": {}
  },
  {
   "cell_type": "code",
   "execution_count": null,
   "source": [
    "proportion_of_admitted = 0.02\n",
    "cut_off = X_rv.ppf(1-proportion_of_admitted)\n",
    "\n",
    "print(f'To admit the top {100*proportion_of_admitted:0.0f}%, the cut-off score should be {cut_off:0.1f}')"
   ],
   "outputs": [],
   "metadata": {}
  },
  {
   "cell_type": "markdown",
   "source": [
    "In this exercise, we used a normal distribution and the cdf and ppf methods to answer real-world questions about education policy."
   ],
   "metadata": {}
  }
 ],
 "metadata": {
  "kernelspec": {
   "display_name": "Python 3",
   "language": "python",
   "name": "python3"
  },
  "language_info": {
   "codemirror_mode": {
    "name": "ipython",
    "version": 3
   },
   "file_extension": ".py",
   "mimetype": "text/x-python",
   "name": "python",
   "nbconvert_exporter": "python",
   "pygments_lexer": "ipython3",
   "version": "3.7.4"
  }
 },
 "nbformat": 4,
 "nbformat_minor": 2
}